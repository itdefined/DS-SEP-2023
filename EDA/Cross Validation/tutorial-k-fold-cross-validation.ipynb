{
 "cells": [
  {
   "cell_type": "markdown",
   "metadata": {
    "papermill": {
     "duration": 0.024225,
     "end_time": "2020-12-06T06:53:02.852613",
     "exception": false,
     "start_time": "2020-12-06T06:53:02.828388",
     "status": "completed"
    },
    "tags": []
   },
   "source": [
    "![KFold_Cross_Validation_Header_1000x690](https://raw.githubusercontent.com/satishgunjal/images/master/KFold_Cross_Validation_Header_1000x690.png)"
   ]
  },
  {
   "cell_type": "markdown",
   "metadata": {
    "papermill": {
     "duration": 0.020424,
     "end_time": "2020-12-06T06:53:02.894385",
     "exception": false,
     "start_time": "2020-12-06T06:53:02.873961",
     "status": "completed"
    },
    "tags": []
   },
   "source": [
    "# Index\n",
    "* [Introduction](#1)\n",
    "* [Inner Working of Cross Validation](#2)\n",
    "* [K Fold Cross Validation](#3)\n",
    "* [Stratified K Fold Cross Validation](#4)\n",
    "* [Hyperparameter Tuning and Model Selection](#5)\n",
    "* [Advantages](#6)\n",
    "* [Disadvantages](#7)\n",
    "* [K Fold: Regression Example](#8)\n",
    "  - [Import Libraries](#9)\n",
    "  - [Load Dataset](#10)\n",
    "  - [Understanding the Data](#11)\n",
    "  - [Model Score Using KFold](#12)\n",
    "    - [Using Linear Regression](#13), [Using Decision Tree Regressor](#14), [Using Random Forest Regressor](#15)\n",
    "  - [Model Tuning using KFold](#16)\n",
    "    - [Decision Tree Regressor Tuning](#17), [Random Forest Regressor Tuning](#18)\n",
    "* [K Fold: Classification Example](#19)\n",
    "  - [Load Dataset](#20)\n",
    "  - [Understanding the Data](#21)\n",
    "  - [Model Score Using KFold](#22)\n",
    "    - [Using Logistic Regression](#23), [Using Decision Classifier](#24), [Using Random Forest Classifier](#25)\n",
    "  - [Model Tuning using KFold](#26)\n",
    "    - [Logistic Classifier Tuning](#27), [Decision Tree Classifier Tuning](#28), [Random Forest Classifier Tuning](#28), \n",
    "* [Reference](#30)"
   ]
  },
  {
   "cell_type": "markdown",
   "metadata": {
    "papermill": {
     "duration": 0.020346,
     "end_time": "2020-12-06T06:53:02.935716",
     "exception": false,
     "start_time": "2020-12-06T06:53:02.915370",
     "status": "completed"
    },
    "tags": []
   },
   "source": [
    "# Introduction <a id =\"1\"></a>\n",
    "\n",
    "As of now we have divided the input data into train and test datasets and use it for model training and testing respectively. This method is not very reliable as train and test data not always have same kind of variation like original data, which will affect the accuracy of the model. Cross validation solves this problem by dividing the input data into multiple groups instead of just two groups. There are multiple ways to split the data, in this article we are going to cover K Fold and Stratified K Fold cross validation techniques.\n",
    "\n",
    "In case you are not familiar with train test split method, please refer [this](https://satishgunjal.com/train_test_split/) article.\n",
    "\n",
    "\n",
    "# Inner Working of Cross Validation <a id =\"2\"></a>\n",
    "\n",
    "* Shuffle the dataset in order to remove any kind of order\n",
    "* Split the data into K number of folds. K= 5 or 10 will work for most of the cases.\n",
    "* Now keep one fold for testing and remaining all the folds for training.\n",
    "* Train(fit) the model on train set and test(evaluate) it on test set and note down the results for that split\n",
    "* Now repeat this process for all the folds, every time choosing separate fold as test data\n",
    "* So for every iteration our model gets trained and tested on different sets of data\n",
    "* At the end sum up the scores from each split and get the mean score\n",
    "\n",
    "![Inner_Working_KFold](https://raw.githubusercontent.com/satishgunjal/images/master/Inner_Working_KFold.png)\n",
    "\n",
    "# K Fold Cross Validation <a id =\"3\"></a>\n",
    "\n",
    "In case of K Fold cross validation input data is divided into 'K' number of folds, hence the name K Fold. Suppose we have divided data into 5 folds i.e. K=5. Now we have 5 sets of data to train and test our model. So the model will get trained and tested 5 times, but for every iteration we will use one fold as test data and rest all as training data. Note that for every iteration, data in training and test fold changes which adds to the effectiveness of this method. \n",
    "\n",
    "This significantly reduces underfitting as we are using most of the data for training(fitting), and also significantly reduces overfitting as most of the data is also being used in validation set. K Fold cross validation helps to generalize the machine learning model, which results in better predictions on unknown data. To know more about underfitting & overfitting please refer [this](https://satishgunjal.com/underfitting_overfitting/) article.\n",
    "\n",
    "For most of the cases 5 or 10 folds are sufficient but depending on problem you can split the data into any number of folds.\n",
    "\n",
    "![KFold_Cross_Validation](https://raw.githubusercontent.com/satishgunjal/images/master/KFold_Cross_Validation.png)\n",
    "\n",
    "\n",
    "# Stratified K Fold Cross Validation <a id =\"4\"></a>\n",
    "\n",
    "Stratified K Fold used when just random shuffling and splitting the data is not sufficient, and we want to have correct distribution of data in each fold. In case of regression problem folds are selected so that the mean response value is approximately equal in all the folds. In case of classification problem folds are selected to have same proportion of class labels. Stratified K Fold is more useful in case of classification problems, where it is very important to have same percentage of labels in every fold.\n",
    "\n",
    "![Stratified_KFold_Cross_Validation](https://raw.githubusercontent.com/satishgunjal/images/master/Stratified_KFold_Cross_Validation.png)\n",
    "\n",
    "# Hyperparameter Tuning and Model Selection <a id =\"5\"></a>\n",
    "\n",
    "Now you are familiar with inner working of cross validation, lets see how we can use it to tune the parameters and select best model. \n",
    "\n",
    "For hyperparameter tuning or to find the best model we have to run the model against multiple combination of parameters and features and record score for analysis. To do this we can use sklearns 'cross_val_score' function. This function evaluates a score by cross-validation, and depending on the scores we can finalize the hyperparameter which provides the best results. Similarly, we can try multiple model and choose the model which provides the best score.\n",
    "\n",
    "Note: In this article I will do the model parameter tuning using for loop for better understanding. There are more sophisticated ways like using GridSearchCV() to do hyperparameter tuning. To know more about it please refer [this](https://www.kaggle.com/satishgunjal/tutorial-hyperparameter-tuning/) article\n",
    "\n",
    "# Advantages <a id =\"6\"></a>\n",
    "\n",
    "* We end up using all the data for training and testing and this is very useful in case of small datasets\n",
    "* It covers the variation of input data by validating the performance of the model on multiple folds\n",
    "* Multiple folds also helps in case of unbalanced data\n",
    "* Model performance analysis for every fold gives us more insights to fine tune the model \n",
    "* Used for hyperparameter tuning\n",
    "\n",
    "# Disadvantages <a id =\"7\"></a>\n",
    "\n",
    "K Fold cross validation not really helpful in case time series data. To know more about time series data please refer [this tutorial](https://www.kaggle.com/satishgunjal/tutorial-time-series-analysis-and-forecasting)"
   ]
  },
  {
   "cell_type": "markdown",
   "metadata": {
    "papermill": {
     "duration": 0.020419,
     "end_time": "2020-12-06T06:53:02.976666",
     "exception": false,
     "start_time": "2020-12-06T06:53:02.956247",
     "status": "completed"
    },
    "tags": []
   },
   "source": [
    "# K Fold: Regression Example <a id =\"8\"></a>\n",
    "\n",
    "We are going to use [House Prices: Advanced Regression Techniques](https://www.kaggle.com/c/house-prices-advanced-regression-techniques) competition data. We will convert this dataset into toy dataset so that we can straightaway jump into model building using K Fold cross validation\n",
    "\n",
    "![House_Prices_Advanced_Regression_Techniques](https://raw.githubusercontent.com/satishgunjal/images/master/House_Prices_Advanced_Regression_Techniques.png)\n",
    " \n",
    "## Import Libraries <a id =\"9\"></a>\n",
    "\n",
    "* pandas: Used for data manipulation and analysis\n",
    "* numpy : Numpy is the core library for scientific computing in Python. It is used for working with arrays and matrices.\n",
    "* KFold: Sklearn K-Folds cross-validator\n",
    "* StratifiedKFold: Stratified K-Folds cross-validator\n",
    "* cross_val_score: Sklearn library to evaluate a score by cross-validation\n",
    "* linear_model: Sklearn library, we are using LinearRegression and LogisticRegression algorithm\n",
    "* tree: Sklearn library, we are using DecisionTreeRegressor and DecisionTreeClassifier\n",
    "* ensemble: SKlearn library, we are using RandomForestRegressor and RandomForestClassifier"
   ]
  },
  {
   "cell_type": "code",
   "execution_count": 1,
   "metadata": {
    "execution": {
     "iopub.execute_input": "2020-12-06T06:53:03.025074Z",
     "iopub.status.busy": "2020-12-06T06:53:03.024445Z",
     "iopub.status.idle": "2020-12-06T06:53:03.895821Z",
     "shell.execute_reply": "2020-12-06T06:53:03.895261Z"
    },
    "papermill": {
     "duration": 0.898501,
     "end_time": "2020-12-06T06:53:03.895944",
     "exception": false,
     "start_time": "2020-12-06T06:53:02.997443",
     "status": "completed"
    },
    "tags": []
   },
   "outputs": [],
   "source": [
    "import pandas as pd\n",
    "import numpy as np\n",
    "from sklearn.model_selection import KFold, StratifiedKFold, cross_val_score\n",
    "from sklearn import linear_model, tree, ensemble"
   ]
  },
  {
   "cell_type": "markdown",
   "metadata": {
    "papermill": {
     "duration": 0.020738,
     "end_time": "2020-12-06T06:53:03.938768",
     "exception": false,
     "start_time": "2020-12-06T06:53:03.918030",
     "status": "completed"
    },
    "tags": []
   },
   "source": [
    "## Load Dataset <a id =\"10\"></a>\n",
    "We will load the dataset into pandas dataframe and convert it into a toy dataset by removing categorical columns and rows and columns with null values."
   ]
  },
  {
   "cell_type": "code",
   "execution_count": 2,
   "metadata": {
    "execution": {
     "iopub.execute_input": "2020-12-06T06:53:03.986129Z",
     "iopub.status.busy": "2020-12-06T06:53:03.985224Z",
     "iopub.status.idle": "2020-12-06T06:53:04.078357Z",
     "shell.execute_reply": "2020-12-06T06:53:04.077372Z"
    },
    "papermill": {
     "duration": 0.118839,
     "end_time": "2020-12-06T06:53:04.078502",
     "exception": false,
     "start_time": "2020-12-06T06:53:03.959663",
     "status": "completed"
    },
    "tags": []
   },
   "outputs": [
    {
     "name": "stdout",
     "output_type": "stream",
     "text": [
      "Shape of input data: (1460, 34) and shape of target variable: (1460,)\n"
     ]
    },
    {
     "data": {
      "text/html": [
       "<div>\n",
       "<style scoped>\n",
       "    .dataframe tbody tr th:only-of-type {\n",
       "        vertical-align: middle;\n",
       "    }\n",
       "\n",
       "    .dataframe tbody tr th {\n",
       "        vertical-align: top;\n",
       "    }\n",
       "\n",
       "    .dataframe thead th {\n",
       "        text-align: right;\n",
       "    }\n",
       "</style>\n",
       "<table border=\"1\" class=\"dataframe\">\n",
       "  <thead>\n",
       "    <tr style=\"text-align: right;\">\n",
       "      <th></th>\n",
       "      <th>Id</th>\n",
       "      <th>MSSubClass</th>\n",
       "      <th>LotArea</th>\n",
       "      <th>OverallQual</th>\n",
       "      <th>OverallCond</th>\n",
       "      <th>YearBuilt</th>\n",
       "      <th>YearRemodAdd</th>\n",
       "      <th>BsmtFinSF1</th>\n",
       "      <th>BsmtFinSF2</th>\n",
       "      <th>BsmtUnfSF</th>\n",
       "      <th>...</th>\n",
       "      <th>GarageArea</th>\n",
       "      <th>WoodDeckSF</th>\n",
       "      <th>OpenPorchSF</th>\n",
       "      <th>EnclosedPorch</th>\n",
       "      <th>3SsnPorch</th>\n",
       "      <th>ScreenPorch</th>\n",
       "      <th>PoolArea</th>\n",
       "      <th>MiscVal</th>\n",
       "      <th>MoSold</th>\n",
       "      <th>YrSold</th>\n",
       "    </tr>\n",
       "  </thead>\n",
       "  <tbody>\n",
       "    <tr>\n",
       "      <th>0</th>\n",
       "      <td>1</td>\n",
       "      <td>60</td>\n",
       "      <td>8450</td>\n",
       "      <td>7</td>\n",
       "      <td>5</td>\n",
       "      <td>2003</td>\n",
       "      <td>2003</td>\n",
       "      <td>706</td>\n",
       "      <td>0</td>\n",
       "      <td>150</td>\n",
       "      <td>...</td>\n",
       "      <td>548</td>\n",
       "      <td>0</td>\n",
       "      <td>61</td>\n",
       "      <td>0</td>\n",
       "      <td>0</td>\n",
       "      <td>0</td>\n",
       "      <td>0</td>\n",
       "      <td>0</td>\n",
       "      <td>2</td>\n",
       "      <td>2008</td>\n",
       "    </tr>\n",
       "    <tr>\n",
       "      <th>1</th>\n",
       "      <td>2</td>\n",
       "      <td>20</td>\n",
       "      <td>9600</td>\n",
       "      <td>6</td>\n",
       "      <td>8</td>\n",
       "      <td>1976</td>\n",
       "      <td>1976</td>\n",
       "      <td>978</td>\n",
       "      <td>0</td>\n",
       "      <td>284</td>\n",
       "      <td>...</td>\n",
       "      <td>460</td>\n",
       "      <td>298</td>\n",
       "      <td>0</td>\n",
       "      <td>0</td>\n",
       "      <td>0</td>\n",
       "      <td>0</td>\n",
       "      <td>0</td>\n",
       "      <td>0</td>\n",
       "      <td>5</td>\n",
       "      <td>2007</td>\n",
       "    </tr>\n",
       "    <tr>\n",
       "      <th>2</th>\n",
       "      <td>3</td>\n",
       "      <td>60</td>\n",
       "      <td>11250</td>\n",
       "      <td>7</td>\n",
       "      <td>5</td>\n",
       "      <td>2001</td>\n",
       "      <td>2002</td>\n",
       "      <td>486</td>\n",
       "      <td>0</td>\n",
       "      <td>434</td>\n",
       "      <td>...</td>\n",
       "      <td>608</td>\n",
       "      <td>0</td>\n",
       "      <td>42</td>\n",
       "      <td>0</td>\n",
       "      <td>0</td>\n",
       "      <td>0</td>\n",
       "      <td>0</td>\n",
       "      <td>0</td>\n",
       "      <td>9</td>\n",
       "      <td>2008</td>\n",
       "    </tr>\n",
       "    <tr>\n",
       "      <th>3</th>\n",
       "      <td>4</td>\n",
       "      <td>70</td>\n",
       "      <td>9550</td>\n",
       "      <td>7</td>\n",
       "      <td>5</td>\n",
       "      <td>1915</td>\n",
       "      <td>1970</td>\n",
       "      <td>216</td>\n",
       "      <td>0</td>\n",
       "      <td>540</td>\n",
       "      <td>...</td>\n",
       "      <td>642</td>\n",
       "      <td>0</td>\n",
       "      <td>35</td>\n",
       "      <td>272</td>\n",
       "      <td>0</td>\n",
       "      <td>0</td>\n",
       "      <td>0</td>\n",
       "      <td>0</td>\n",
       "      <td>2</td>\n",
       "      <td>2006</td>\n",
       "    </tr>\n",
       "    <tr>\n",
       "      <th>4</th>\n",
       "      <td>5</td>\n",
       "      <td>60</td>\n",
       "      <td>14260</td>\n",
       "      <td>8</td>\n",
       "      <td>5</td>\n",
       "      <td>2000</td>\n",
       "      <td>2000</td>\n",
       "      <td>655</td>\n",
       "      <td>0</td>\n",
       "      <td>490</td>\n",
       "      <td>...</td>\n",
       "      <td>836</td>\n",
       "      <td>192</td>\n",
       "      <td>84</td>\n",
       "      <td>0</td>\n",
       "      <td>0</td>\n",
       "      <td>0</td>\n",
       "      <td>0</td>\n",
       "      <td>0</td>\n",
       "      <td>12</td>\n",
       "      <td>2008</td>\n",
       "    </tr>\n",
       "  </tbody>\n",
       "</table>\n",
       "<p>5 rows × 34 columns</p>\n",
       "</div>"
      ],
      "text/plain": [
       "   Id  MSSubClass  LotArea  OverallQual  OverallCond  YearBuilt  YearRemodAdd  \\\n",
       "0   1          60     8450            7            5       2003          2003   \n",
       "1   2          20     9600            6            8       1976          1976   \n",
       "2   3          60    11250            7            5       2001          2002   \n",
       "3   4          70     9550            7            5       1915          1970   \n",
       "4   5          60    14260            8            5       2000          2000   \n",
       "\n",
       "   BsmtFinSF1  BsmtFinSF2  BsmtUnfSF  ...  GarageArea  WoodDeckSF  \\\n",
       "0         706           0        150  ...         548           0   \n",
       "1         978           0        284  ...         460         298   \n",
       "2         486           0        434  ...         608           0   \n",
       "3         216           0        540  ...         642           0   \n",
       "4         655           0        490  ...         836         192   \n",
       "\n",
       "   OpenPorchSF  EnclosedPorch  3SsnPorch  ScreenPorch  PoolArea  MiscVal  \\\n",
       "0           61              0          0            0         0        0   \n",
       "1            0              0          0            0         0        0   \n",
       "2           42              0          0            0         0        0   \n",
       "3           35            272          0            0         0        0   \n",
       "4           84              0          0            0         0        0   \n",
       "\n",
       "   MoSold  YrSold  \n",
       "0       2    2008  \n",
       "1       5    2007  \n",
       "2       9    2008  \n",
       "3       2    2006  \n",
       "4      12    2008  \n",
       "\n",
       "[5 rows x 34 columns]"
      ]
     },
     "execution_count": 2,
     "metadata": {},
     "output_type": "execute_result"
    }
   ],
   "source": [
    "train_data = pd.read_csv('/kaggle/input/house-prices-advanced-regression-techniques/train.csv')\n",
    "\n",
    "# Remove rows with missing target values\n",
    "train_data.dropna(axis=0, subset=['SalePrice'], inplace=True)\n",
    "y = train_data.SalePrice # Target variable             \n",
    "train_data.drop(['SalePrice'], axis=1, inplace=True) # Removing target variable from training data\n",
    "\n",
    "train_data.drop(['LotFrontage', 'GarageYrBlt', 'MasVnrArea'], axis=1, inplace=True) # Remove columns with null values\n",
    "\n",
    "# Select numeric columns only\n",
    "numeric_cols = [cname for cname in train_data.columns if train_data[cname].dtype in ['int64', 'float64']]\n",
    "X = train_data[numeric_cols].copy()\n",
    "\n",
    "print(\"Shape of input data: {} and shape of target variable: {}\".format(X.shape, y.shape))\n",
    "\n",
    "X.head() # Show first 5 training examples"
   ]
  },
  {
   "cell_type": "markdown",
   "metadata": {
    "papermill": {
     "duration": 0.022212,
     "end_time": "2020-12-06T06:53:04.124151",
     "exception": false,
     "start_time": "2020-12-06T06:53:04.101939",
     "status": "completed"
    },
    "tags": []
   },
   "source": [
    "## Understanding the Data <a id =\"11\"></a>\n",
    "Final dataset contains 34 features and 1460 training examples. We have to predict the house sales price based on available training data."
   ]
  },
  {
   "cell_type": "markdown",
   "metadata": {
    "papermill": {
     "duration": 0.022533,
     "end_time": "2020-12-06T06:53:04.169124",
     "exception": false,
     "start_time": "2020-12-06T06:53:04.146591",
     "status": "completed"
    },
    "tags": []
   },
   "source": [
    "## Model Score Using KFold <a id =\"12\"></a>\n",
    "Let's use **cross_val_score()** to evaluate a score by cross-validation. We are going to use three different models for analysis. We will find the score for every split and then take average to get the overall score. We will analyze the model performance based on Root Mean Square Error (RMSE). Since RMSE is not directly available from scoring parameter, first we find the Mean Square Error and then take the square root of it."
   ]
  },
  {
   "cell_type": "code",
   "execution_count": 3,
   "metadata": {
    "execution": {
     "iopub.execute_input": "2020-12-06T06:53:04.224337Z",
     "iopub.status.busy": "2020-12-06T06:53:04.223323Z",
     "iopub.status.idle": "2020-12-06T06:53:04.229145Z",
     "shell.execute_reply": "2020-12-06T06:53:04.228312Z"
    },
    "papermill": {
     "duration": 0.037618,
     "end_time": "2020-12-06T06:53:04.229270",
     "exception": false,
     "start_time": "2020-12-06T06:53:04.191652",
     "status": "completed"
    },
    "tags": []
   },
   "outputs": [
    {
     "name": "stdout",
     "output_type": "stream",
     "text": [
      "Fold:1, Train set: 1168, Test set:292\n",
      "Fold:2, Train set: 1168, Test set:292\n",
      "Fold:3, Train set: 1168, Test set:292\n",
      "Fold:4, Train set: 1168, Test set:292\n",
      "Fold:5, Train set: 1168, Test set:292\n"
     ]
    }
   ],
   "source": [
    "# Lets split the data into 5 folds.  \n",
    "# We will use this 'kf'(KFold splitting stratergy) object as input to cross_val_score() method\n",
    "kf =KFold(n_splits=5, shuffle=True, random_state=42)\n",
    "\n",
    "cnt = 1\n",
    "# split()  method generate indices to split data into training and test set.\n",
    "for train_index, test_index in kf.split(X, y):\n",
    "    print(f'Fold:{cnt}, Train set: {len(train_index)}, Test set:{len(test_index)}')\n",
    "    cnt += 1"
   ]
  },
  {
   "cell_type": "code",
   "execution_count": 4,
   "metadata": {
    "execution": {
     "iopub.execute_input": "2020-12-06T06:53:04.304650Z",
     "iopub.status.busy": "2020-12-06T06:53:04.304027Z",
     "iopub.status.idle": "2020-12-06T06:53:04.307273Z",
     "shell.execute_reply": "2020-12-06T06:53:04.307717Z"
    },
    "papermill": {
     "duration": 0.043531,
     "end_time": "2020-12-06T06:53:04.307846",
     "exception": false,
     "start_time": "2020-12-06T06:53:04.264315",
     "status": "completed"
    },
    "tags": []
   },
   "outputs": [],
   "source": [
    "\"\"\"\n",
    "Why we are using '-' sign to calculate RMSE?\n",
    "ANS: Classification accuracy is reward function, means something you want to maximize. Mean Square Error is loss function, \n",
    "means something you want to minimize. Now if we use 'cross_val_score' function then best score(high value) will give worst \n",
    "model in case of loss function! There are other sklearn functions which also depends on 'cross_val_score' to select best model by\n",
    "looking for highest scores, so a design decision was made for 'cross_val_score' to negate the output of all loss function. \n",
    "So that when other sklearn function calls 'cross_val_score' those function can always assume that highest score indicate better model.\n",
    "In short ignore the negative sign and rate the error based on its absolute value.\n",
    "\"\"\"\n",
    "def rmse(score):\n",
    "    rmse = np.sqrt(-score)\n",
    "    print(f'rmse= {\"{:.2f}\".format(rmse)}')"
   ]
  },
  {
   "cell_type": "markdown",
   "metadata": {
    "papermill": {
     "duration": 0.022411,
     "end_time": "2020-12-06T06:53:04.353227",
     "exception": false,
     "start_time": "2020-12-06T06:53:04.330816",
     "status": "completed"
    },
    "tags": []
   },
   "source": [
    "### Using Linear Regression <a id =\"13\"></a>"
   ]
  },
  {
   "cell_type": "code",
   "execution_count": 5,
   "metadata": {
    "execution": {
     "iopub.execute_input": "2020-12-06T06:53:04.406009Z",
     "iopub.status.busy": "2020-12-06T06:53:04.405388Z",
     "iopub.status.idle": "2020-12-06T06:53:04.513908Z",
     "shell.execute_reply": "2020-12-06T06:53:04.514591Z"
    },
    "papermill": {
     "duration": 0.138938,
     "end_time": "2020-12-06T06:53:04.514744",
     "exception": false,
     "start_time": "2020-12-06T06:53:04.375806",
     "status": "completed"
    },
    "tags": []
   },
   "outputs": [
    {
     "name": "stdout",
     "output_type": "stream",
     "text": [
      "Scores for each fold: [-1.39334669e+09 -1.32533433e+09 -3.39493937e+09 -9.31045536e+08\n",
      " -7.16620849e+08]\n",
      "rmse= 39398.70\n"
     ]
    }
   ],
   "source": [
    "score = cross_val_score(linear_model.LinearRegression(), X, y, cv= kf, scoring=\"neg_mean_squared_error\")\n",
    "print(f'Scores for each fold: {score}')\n",
    "rmse(score.mean())"
   ]
  },
  {
   "cell_type": "markdown",
   "metadata": {
    "papermill": {
     "duration": 0.023195,
     "end_time": "2020-12-06T06:53:04.564688",
     "exception": false,
     "start_time": "2020-12-06T06:53:04.541493",
     "status": "completed"
    },
    "tags": []
   },
   "source": [
    "### Using Decision Tree Regressor <a id =\"14\"></a>"
   ]
  },
  {
   "cell_type": "code",
   "execution_count": 6,
   "metadata": {
    "execution": {
     "iopub.execute_input": "2020-12-06T06:53:04.619859Z",
     "iopub.status.busy": "2020-12-06T06:53:04.618943Z",
     "iopub.status.idle": "2020-12-06T06:53:04.805606Z",
     "shell.execute_reply": "2020-12-06T06:53:04.806169Z"
    },
    "papermill": {
     "duration": 0.218405,
     "end_time": "2020-12-06T06:53:04.806323",
     "exception": false,
     "start_time": "2020-12-06T06:53:04.587918",
     "status": "completed"
    },
    "tags": []
   },
   "outputs": [
    {
     "name": "stdout",
     "output_type": "stream",
     "text": [
      "Scores for each fold: [-2.28396934e+09 -1.70193863e+09 -2.50505513e+09 -1.48547479e+09\n",
      " -1.66691378e+09]\n",
      "rmse= 43916.63\n"
     ]
    }
   ],
   "source": [
    "score = cross_val_score(tree.DecisionTreeRegressor(random_state= 42), X, y, cv=kf, scoring=\"neg_mean_squared_error\")\n",
    "print(f'Scores for each fold: {score}')\n",
    "rmse(score.mean())"
   ]
  },
  {
   "cell_type": "markdown",
   "metadata": {
    "papermill": {
     "duration": 0.025996,
     "end_time": "2020-12-06T06:53:04.857139",
     "exception": false,
     "start_time": "2020-12-06T06:53:04.831143",
     "status": "completed"
    },
    "tags": []
   },
   "source": [
    "### Using Random Forest Regressor <a id =\"15\"></a>"
   ]
  },
  {
   "cell_type": "code",
   "execution_count": 7,
   "metadata": {
    "execution": {
     "iopub.execute_input": "2020-12-06T06:53:04.914563Z",
     "iopub.status.busy": "2020-12-06T06:53:04.913761Z",
     "iopub.status.idle": "2020-12-06T06:53:11.936384Z",
     "shell.execute_reply": "2020-12-06T06:53:11.937239Z"
    },
    "papermill": {
     "duration": 7.055194,
     "end_time": "2020-12-06T06:53:11.937432",
     "exception": false,
     "start_time": "2020-12-06T06:53:04.882238",
     "status": "completed"
    },
    "tags": []
   },
   "outputs": [
    {
     "name": "stdout",
     "output_type": "stream",
     "text": [
      "Scores for each fold are: [-8.58316418e+08 -6.13821216e+08 -2.06121160e+09 -7.97273029e+08\n",
      " -5.68429309e+08]\n",
      "rmse= 31301.92\n"
     ]
    }
   ],
   "source": [
    "score = cross_val_score(ensemble.RandomForestRegressor(random_state= 42), X, y, cv= kf, scoring=\"neg_mean_squared_error\")\n",
    "print(f'Scores for each fold are: {score}')\n",
    "rmse(score.mean())"
   ]
  },
  {
   "cell_type": "markdown",
   "metadata": {
    "papermill": {
     "duration": 0.036326,
     "end_time": "2020-12-06T06:53:12.011136",
     "exception": false,
     "start_time": "2020-12-06T06:53:11.974810",
     "status": "completed"
    },
    "tags": []
   },
   "source": [
    "## Model Tuning using KFold <a id =\"16\"></a>\n",
    "We can also use **cross_val_score()** along with KFold to evaluate the model for different hyperparameters. Here we are going to try different hyperparameter values and choose the ones for which we get the highest model score."
   ]
  },
  {
   "cell_type": "markdown",
   "metadata": {
    "papermill": {
     "duration": 0.036472,
     "end_time": "2020-12-06T06:53:12.084526",
     "exception": false,
     "start_time": "2020-12-06T06:53:12.048054",
     "status": "completed"
    },
    "tags": []
   },
   "source": [
    "### Decision Tree Regressor Tuning <a id =\"17\"></a>\n",
    "\n",
    "There are multiple hyperparameters like max_depth, min_samples_split, min_samples_leaf etc which affect the model performance. Here we are going to do tuning based on 'max_depth'. We will try with max depth starting from 1 to 10 and depending on the final 'rmse' score choose the value of max_depth."
   ]
  },
  {
   "cell_type": "code",
   "execution_count": 8,
   "metadata": {
    "execution": {
     "iopub.execute_input": "2020-12-06T06:53:12.160963Z",
     "iopub.status.busy": "2020-12-06T06:53:12.160182Z",
     "iopub.status.idle": "2020-12-06T06:53:12.966432Z",
     "shell.execute_reply": "2020-12-06T06:53:12.965786Z"
    },
    "papermill": {
     "duration": 0.845573,
     "end_time": "2020-12-06T06:53:12.966549",
     "exception": false,
     "start_time": "2020-12-06T06:53:12.120976",
     "status": "completed"
    },
    "tags": []
   },
   "outputs": [
    {
     "name": "stdout",
     "output_type": "stream",
     "text": [
      "For max depth: 1\n",
      "rmse= 58803.64\n",
      "For max depth: 2\n",
      "rmse= 50060.31\n",
      "For max depth: 3\n",
      "rmse= 42152.85\n",
      "For max depth: 4\n",
      "rmse= 39218.54\n",
      "For max depth: 5\n",
      "rmse= 40185.90\n",
      "For max depth: 6\n",
      "rmse= 40522.15\n",
      "For max depth: 7\n",
      "rmse= 41089.08\n",
      "For max depth: 8\n",
      "rmse= 41161.27\n",
      "For max depth: 9\n",
      "rmse= 41441.94\n",
      "For max depth: 10\n",
      "rmse= 41758.39\n"
     ]
    }
   ],
   "source": [
    "max_depth = [1,2,3,4,5,6,7,8,9,10]\n",
    "\n",
    "for val in max_depth:\n",
    "    score = cross_val_score(tree.DecisionTreeRegressor(max_depth= val, random_state= 42), X, y, cv= kf, scoring=\"neg_mean_squared_error\")\n",
    "    print(f'For max depth: {val}')\n",
    "    rmse(score.mean())"
   ]
  },
  {
   "cell_type": "markdown",
   "metadata": {
    "papermill": {
     "duration": 0.025818,
     "end_time": "2020-12-06T06:53:13.018935",
     "exception": false,
     "start_time": "2020-12-06T06:53:12.993117",
     "status": "completed"
    },
    "tags": []
   },
   "source": [
    "### Random Forest Regressor Tuning <a id =\"18\"></a>\n",
    "\n",
    "There are multiple hyperparameters like n_estimators, max_depth, min_samples_split etc which affect the model performance. Here we are going to do tuning based on 'n_estimators'. We will try with estimators starting from 50 to 350 and depending on the final 'rmse' score choose the value of estimator."
   ]
  },
  {
   "cell_type": "code",
   "execution_count": 9,
   "metadata": {
    "execution": {
     "iopub.execute_input": "2020-12-06T06:53:13.081563Z",
     "iopub.status.busy": "2020-12-06T06:53:13.080139Z",
     "iopub.status.idle": "2020-12-06T06:54:58.215290Z",
     "shell.execute_reply": "2020-12-06T06:54:58.214609Z"
    },
    "papermill": {
     "duration": 105.170331,
     "end_time": "2020-12-06T06:54:58.215396",
     "exception": false,
     "start_time": "2020-12-06T06:53:13.045065",
     "status": "completed"
    },
    "tags": []
   },
   "outputs": [
    {
     "name": "stdout",
     "output_type": "stream",
     "text": [
      "For estimators: 50\n",
      "rmse= 31450.86\n",
      "For estimators: 100\n",
      "rmse= 31301.92\n",
      "For estimators: 150\n",
      "rmse= 31187.45\n",
      "For estimators: 200\n",
      "rmse= 31176.16\n",
      "For estimators: 250\n",
      "rmse= 31246.61\n",
      "For estimators: 300\n",
      "rmse= 31242.74\n",
      "For estimators: 350\n",
      "rmse= 31313.74\n"
     ]
    }
   ],
   "source": [
    "estimators = [50, 100, 150, 200, 250, 300, 350]\n",
    "\n",
    "for count in estimators:\n",
    "    score = cross_val_score(ensemble.RandomForestRegressor(n_estimators= count, random_state= 42), X, y, cv= kf, scoring=\"neg_mean_squared_error\")\n",
    "    print(f'For estimators: {count}')\n",
    "    rmse(score.mean())"
   ]
  },
  {
   "cell_type": "markdown",
   "metadata": {
    "papermill": {
     "duration": 0.028464,
     "end_time": "2020-12-06T06:54:58.273364",
     "exception": false,
     "start_time": "2020-12-06T06:54:58.244900",
     "status": "completed"
    },
    "tags": []
   },
   "source": [
    "# K Fold: Classification Example <a id =\"19\"></a>\n",
    "\n",
    "We are going to use [Titanic: Machine Learning from Disaster](https://www.kaggle.com/c/titanic/overview) competition data. We will convert this dataset into toy dataset so that we can straightaway jump into model building using K Fold cross validation\n",
    "\n",
    "![Titanic_Machine_Learning_from_Disaster](https://raw.githubusercontent.com/satishgunjal/images/master/Titanic_Machine_Learning_from_Disaster.png)\n",
    "\n",
    "## Load Dataset <a id =\"20\"></a>\n",
    "\n",
    "We will load the dataset into pandas dataframe and convert it into a toy dataset by removing categorical columns and rows and columns with null values."
   ]
  },
  {
   "cell_type": "code",
   "execution_count": 10,
   "metadata": {
    "_cell_guid": "79c7e3d0-c299-4dcb-8224-4455121ee9b0",
    "_uuid": "d629ff2d2480ee46fbb7e2d37f6b5fab8052498a",
    "execution": {
     "iopub.execute_input": "2020-12-06T06:54:58.341203Z",
     "iopub.status.busy": "2020-12-06T06:54:58.340488Z",
     "iopub.status.idle": "2020-12-06T06:54:58.370754Z",
     "shell.execute_reply": "2020-12-06T06:54:58.370147Z"
    },
    "papermill": {
     "duration": 0.068448,
     "end_time": "2020-12-06T06:54:58.370857",
     "exception": false,
     "start_time": "2020-12-06T06:54:58.302409",
     "status": "completed"
    },
    "tags": []
   },
   "outputs": [
    {
     "name": "stdout",
     "output_type": "stream",
     "text": [
      "Shape of input data: (891, 5) and shape of target variable: (891,)\n"
     ]
    },
    {
     "data": {
      "text/html": [
       "<div>\n",
       "<style scoped>\n",
       "    .dataframe tbody tr th:only-of-type {\n",
       "        vertical-align: middle;\n",
       "    }\n",
       "\n",
       "    .dataframe tbody tr th {\n",
       "        vertical-align: top;\n",
       "    }\n",
       "\n",
       "    .dataframe thead th {\n",
       "        text-align: right;\n",
       "    }\n",
       "</style>\n",
       "<table border=\"1\" class=\"dataframe\">\n",
       "  <thead>\n",
       "    <tr style=\"text-align: right;\">\n",
       "      <th></th>\n",
       "      <th>PassengerId</th>\n",
       "      <th>Pclass</th>\n",
       "      <th>SibSp</th>\n",
       "      <th>Parch</th>\n",
       "      <th>Fare</th>\n",
       "      <th>Survived</th>\n",
       "    </tr>\n",
       "  </thead>\n",
       "  <tbody>\n",
       "    <tr>\n",
       "      <th>0</th>\n",
       "      <td>1</td>\n",
       "      <td>3</td>\n",
       "      <td>1</td>\n",
       "      <td>0</td>\n",
       "      <td>7.2500</td>\n",
       "      <td>0</td>\n",
       "    </tr>\n",
       "    <tr>\n",
       "      <th>1</th>\n",
       "      <td>2</td>\n",
       "      <td>1</td>\n",
       "      <td>1</td>\n",
       "      <td>0</td>\n",
       "      <td>71.2833</td>\n",
       "      <td>1</td>\n",
       "    </tr>\n",
       "    <tr>\n",
       "      <th>2</th>\n",
       "      <td>3</td>\n",
       "      <td>3</td>\n",
       "      <td>0</td>\n",
       "      <td>0</td>\n",
       "      <td>7.9250</td>\n",
       "      <td>1</td>\n",
       "    </tr>\n",
       "    <tr>\n",
       "      <th>3</th>\n",
       "      <td>4</td>\n",
       "      <td>1</td>\n",
       "      <td>1</td>\n",
       "      <td>0</td>\n",
       "      <td>53.1000</td>\n",
       "      <td>1</td>\n",
       "    </tr>\n",
       "    <tr>\n",
       "      <th>4</th>\n",
       "      <td>5</td>\n",
       "      <td>3</td>\n",
       "      <td>0</td>\n",
       "      <td>0</td>\n",
       "      <td>8.0500</td>\n",
       "      <td>0</td>\n",
       "    </tr>\n",
       "  </tbody>\n",
       "</table>\n",
       "</div>"
      ],
      "text/plain": [
       "   PassengerId  Pclass  SibSp  Parch     Fare  Survived\n",
       "0            1       3      1      0   7.2500         0\n",
       "1            2       1      1      0  71.2833         1\n",
       "2            3       3      0      0   7.9250         1\n",
       "3            4       1      1      0  53.1000         1\n",
       "4            5       3      0      0   8.0500         0"
      ]
     },
     "execution_count": 10,
     "metadata": {},
     "output_type": "execute_result"
    }
   ],
   "source": [
    "train_data = pd.read_csv('/kaggle/input/titanic/train.csv')\n",
    "\n",
    "# Remove rows with missing target values\n",
    "train_data.dropna(axis=0, subset=['Survived'], inplace=True)\n",
    "y = train_data.Survived # Target variable             \n",
    "train_data.drop(['Survived'], axis=1, inplace=True) # Removing target variable from training data\n",
    "\n",
    "train_data.drop(['Age'], axis=1, inplace=True) # Remove columns with null values\n",
    "\n",
    "# Select numeric columns only\n",
    "numeric_cols = [cname for cname in train_data.columns if train_data[cname].dtype in ['int64', 'float64']]\n",
    "X = train_data[numeric_cols].copy()\n",
    "\n",
    "print(\"Shape of input data: {} and shape of target variable: {}\".format(X.shape, y.shape))\n",
    "pd.concat([X, y], axis=1).head() # Show first 5 training examples"
   ]
  },
  {
   "cell_type": "markdown",
   "metadata": {
    "papermill": {
     "duration": 0.030674,
     "end_time": "2020-12-06T06:54:58.431801",
     "exception": false,
     "start_time": "2020-12-06T06:54:58.401127",
     "status": "completed"
    },
    "tags": []
   },
   "source": [
    "## Understanding the Data <a id =\"21\"></a>\n",
    "Final dataset contains 5 features and 891 training examples. We have to predict which passengers survived the Titanic shipwreck based on available training data. Features that we are going to use in this example are passenger id, ticket class, sibling/spouse aboard, parent/children aboard and ticket fare"
   ]
  },
  {
   "cell_type": "markdown",
   "metadata": {
    "papermill": {
     "duration": 0.031144,
     "end_time": "2020-12-06T06:54:58.493026",
     "exception": false,
     "start_time": "2020-12-06T06:54:58.461882",
     "status": "completed"
    },
    "tags": []
   },
   "source": [
    "## Model Score Using KFold <a id =\"22\"></a>\n",
    "\n",
    "Let's use **cross_val_score()** to evaluate a score by cross-validation. We are going to use three different models for analysis. We are going to find the score for every fold and then take average to get the overall score. We will analyze the model performance based on accuracy score, here score value indicate how many predictions are matching with actual values."
   ]
  },
  {
   "cell_type": "code",
   "execution_count": 11,
   "metadata": {
    "execution": {
     "iopub.execute_input": "2020-12-06T06:54:58.560896Z",
     "iopub.status.busy": "2020-12-06T06:54:58.560273Z",
     "iopub.status.idle": "2020-12-06T06:54:58.572148Z",
     "shell.execute_reply": "2020-12-06T06:54:58.572634Z"
    },
    "papermill": {
     "duration": 0.049341,
     "end_time": "2020-12-06T06:54:58.572788",
     "exception": false,
     "start_time": "2020-12-06T06:54:58.523447",
     "status": "completed"
    },
    "tags": []
   },
   "outputs": [
    {
     "name": "stdout",
     "output_type": "stream",
     "text": [
      "Fold:1, Train set: 712, Test set:179\n",
      "Fold:2, Train set: 713, Test set:178\n",
      "Fold:3, Train set: 713, Test set:178\n",
      "Fold:4, Train set: 713, Test set:178\n",
      "Fold:5, Train set: 713, Test set:178\n"
     ]
    }
   ],
   "source": [
    "# Lets split the data into 5 folds. \n",
    "# We will use this 'kf'(StratiFiedKFold splitting stratergy) object as input to cross_val_score() method\n",
    "# The folds are made by preserving the percentage of samples for each class.\n",
    "kf = StratifiedKFold(n_splits=5, shuffle=True, random_state=42)\n",
    "\n",
    "cnt = 1\n",
    "# split()  method generate indices to split data into training and test set.\n",
    "for train_index, test_index in kf.split(X, y):\n",
    "    print(f'Fold:{cnt}, Train set: {len(train_index)}, Test set:{len(test_index)}')\n",
    "    cnt+=1\n",
    "    \n",
    "# Note that: \n",
    "# cross_val_score() parameter 'cv' will by default use StratifiedKFold spliting startergy if we just specify value of number of folds. \n",
    "# So you can bypass above step and just specify cv= 5 in cross_val_score() function"
   ]
  },
  {
   "cell_type": "markdown",
   "metadata": {
    "papermill": {
     "duration": 0.031344,
     "end_time": "2020-12-06T06:54:58.635856",
     "exception": false,
     "start_time": "2020-12-06T06:54:58.604512",
     "status": "completed"
    },
    "tags": []
   },
   "source": [
    "## Using Logistic Regression <a id =\"23\"></a>"
   ]
  },
  {
   "cell_type": "code",
   "execution_count": 12,
   "metadata": {
    "execution": {
     "iopub.execute_input": "2020-12-06T06:54:58.705262Z",
     "iopub.status.busy": "2020-12-06T06:54:58.704630Z",
     "iopub.status.idle": "2020-12-06T06:54:58.853709Z",
     "shell.execute_reply": "2020-12-06T06:54:58.853211Z"
    },
    "papermill": {
     "duration": 0.186381,
     "end_time": "2020-12-06T06:54:58.853819",
     "exception": false,
     "start_time": "2020-12-06T06:54:58.667438",
     "status": "completed"
    },
    "tags": []
   },
   "outputs": [
    {
     "name": "stdout",
     "output_type": "stream",
     "text": [
      "Scores for each fold are: [0.66480447 0.69662921 0.70224719 0.69101124 0.66292135]\n",
      "Average score: 0.68\n"
     ]
    }
   ],
   "source": [
    "score = cross_val_score(linear_model.LogisticRegression(random_state= 42), X, y, cv= kf, scoring=\"accuracy\")\n",
    "print(f'Scores for each fold are: {score}')\n",
    "print(f'Average score: {\"{:.2f}\".format(score.mean())}')"
   ]
  },
  {
   "cell_type": "markdown",
   "metadata": {
    "papermill": {
     "duration": 0.030428,
     "end_time": "2020-12-06T06:54:58.915528",
     "exception": false,
     "start_time": "2020-12-06T06:54:58.885100",
     "status": "completed"
    },
    "tags": []
   },
   "source": [
    "## Using Decision Classifier <a id =\"24\"></a>"
   ]
  },
  {
   "cell_type": "code",
   "execution_count": 13,
   "metadata": {
    "execution": {
     "iopub.execute_input": "2020-12-06T06:54:58.983171Z",
     "iopub.status.busy": "2020-12-06T06:54:58.982427Z",
     "iopub.status.idle": "2020-12-06T06:54:59.031249Z",
     "shell.execute_reply": "2020-12-06T06:54:59.031732Z"
    },
    "papermill": {
     "duration": 0.085955,
     "end_time": "2020-12-06T06:54:59.031878",
     "exception": false,
     "start_time": "2020-12-06T06:54:58.945923",
     "status": "completed"
    },
    "tags": []
   },
   "outputs": [
    {
     "name": "stdout",
     "output_type": "stream",
     "text": [
      "Scores for each fold are: [0.67039106 0.61235955 0.5505618  0.64044944 0.69101124]\n",
      "Average score: 0.63\n"
     ]
    }
   ],
   "source": [
    "score = cross_val_score(tree.DecisionTreeClassifier(random_state= 42), X, y, cv= kf, scoring=\"accuracy\")\n",
    "print(f'Scores for each fold are: {score}')\n",
    "print(f'Average score: {\"{:.2f}\".format(score.mean())}')"
   ]
  },
  {
   "cell_type": "markdown",
   "metadata": {
    "papermill": {
     "duration": 0.030787,
     "end_time": "2020-12-06T06:54:59.094154",
     "exception": false,
     "start_time": "2020-12-06T06:54:59.063367",
     "status": "completed"
    },
    "tags": []
   },
   "source": [
    "## Using Random Forest Classifier <a id =\"25\"></a>"
   ]
  },
  {
   "cell_type": "code",
   "execution_count": 14,
   "metadata": {
    "execution": {
     "iopub.execute_input": "2020-12-06T06:54:59.164207Z",
     "iopub.status.busy": "2020-12-06T06:54:59.163058Z",
     "iopub.status.idle": "2020-12-06T06:55:00.369705Z",
     "shell.execute_reply": "2020-12-06T06:55:00.368658Z"
    },
    "papermill": {
     "duration": 1.244377,
     "end_time": "2020-12-06T06:55:00.369861",
     "exception": false,
     "start_time": "2020-12-06T06:54:59.125484",
     "status": "completed"
    },
    "tags": []
   },
   "outputs": [
    {
     "name": "stdout",
     "output_type": "stream",
     "text": [
      "Scores for each fold are: [0.74301676 0.66292135 0.65730337 0.70786517 0.73033708]\n",
      "Average score: 0.70\n"
     ]
    }
   ],
   "source": [
    "score = cross_val_score(ensemble.RandomForestClassifier(random_state= 42), X, y, cv= kf, scoring=\"accuracy\")\n",
    "print(f'Scores for each fold are: {score}')\n",
    "print(f'Average score: {\"{:.2f}\".format(score.mean())}')"
   ]
  },
  {
   "cell_type": "markdown",
   "metadata": {
    "papermill": {
     "duration": 0.047389,
     "end_time": "2020-12-06T06:55:00.467581",
     "exception": false,
     "start_time": "2020-12-06T06:55:00.420192",
     "status": "completed"
    },
    "tags": []
   },
   "source": [
    "## Model Tuning using KFold <a id =\"26\"></a>\n",
    "\n",
    "We can also use **cross_val_score()** along with StratifiedKFold to evaluate the model for different hyperparameters. Here we are going to try different hyperparameter values and choose the ones for which we get the highest model score.\n",
    "\n",
    "### Logistic Classifier Tuning <a id =\"27\"></a>\n",
    "\n",
    "We will try different optimization algorithm to finalize the one with the highest accuracy."
   ]
  },
  {
   "cell_type": "code",
   "execution_count": 15,
   "metadata": {
    "execution": {
     "iopub.execute_input": "2020-12-06T06:55:00.575608Z",
     "iopub.status.busy": "2020-12-06T06:55:00.574504Z",
     "iopub.status.idle": "2020-12-06T06:55:03.954469Z",
     "shell.execute_reply": "2020-12-06T06:55:03.953743Z"
    },
    "papermill": {
     "duration": 3.434968,
     "end_time": "2020-12-06T06:55:03.954592",
     "exception": false,
     "start_time": "2020-12-06T06:55:00.519624",
     "status": "completed"
    },
    "tags": []
   },
   "outputs": [
    {
     "name": "stdout",
     "output_type": "stream",
     "text": [
      "Average score(newton-cg): 0.684\n",
      "Average score(lbfgs): 0.684\n",
      "Average score(liblinear): 0.684\n",
      "Average score(sag): 0.678\n",
      "Average score(saga): 0.681\n"
     ]
    }
   ],
   "source": [
    "algorithms = ['newton-cg', 'lbfgs', 'liblinear', 'sag', 'saga']\n",
    "\n",
    "for algo in algorithms:\n",
    "    score = cross_val_score(linear_model.LogisticRegression(max_iter= 4000, solver= algo, random_state= 42), X, y, cv= kf, scoring=\"accuracy\")\n",
    "    print(f'Average score({algo}): {\"{:.3f}\".format(score.mean())}')\n",
    "    \n",
    "# Note, here we are using max_iter = 4000, so that all the solver gets chance to converge. "
   ]
  },
  {
   "cell_type": "markdown",
   "metadata": {
    "papermill": {
     "duration": 0.049202,
     "end_time": "2020-12-06T06:55:04.053446",
     "exception": false,
     "start_time": "2020-12-06T06:55:04.004244",
     "status": "completed"
    },
    "tags": []
   },
   "source": [
    "## Decision Tree Classifier Tuning <a id =\"28\"></a>\n",
    "\n",
    "Here we are going to do tuning based on 'max_depth'. We will try with max depth starting from 1 to 10 and depending on the final 'accuracy' score choose the value of max_depth."
   ]
  },
  {
   "cell_type": "code",
   "execution_count": 16,
   "metadata": {
    "execution": {
     "iopub.execute_input": "2020-12-06T06:55:04.161426Z",
     "iopub.status.busy": "2020-12-06T06:55:04.160600Z",
     "iopub.status.idle": "2020-12-06T06:55:04.535208Z",
     "shell.execute_reply": "2020-12-06T06:55:04.533854Z"
    },
    "papermill": {
     "duration": 0.43249,
     "end_time": "2020-12-06T06:55:04.535406",
     "exception": false,
     "start_time": "2020-12-06T06:55:04.102916",
     "status": "completed"
    },
    "tags": []
   },
   "outputs": [
    {
     "name": "stdout",
     "output_type": "stream",
     "text": [
      "Average score(1): 0.668\n",
      "Average score(2): 0.706\n",
      "Average score(3): 0.713\n",
      "Average score(4): 0.687\n",
      "Average score(5): 0.688\n",
      "Average score(6): 0.682\n",
      "Average score(7): 0.669\n",
      "Average score(8): 0.669\n",
      "Average score(9): 0.663\n",
      "Average score(10): 0.664\n"
     ]
    }
   ],
   "source": [
    "max_depth = [1,2,3,4,5,6,7,8,9,10]\n",
    "\n",
    "for val in max_depth:\n",
    "    score = cross_val_score(tree.DecisionTreeClassifier(max_depth= val, random_state= 42), X, y, cv= kf, scoring=\"accuracy\")\n",
    "    print(f'Average score({val}): {\"{:.3f}\".format(score.mean())}')"
   ]
  },
  {
   "cell_type": "markdown",
   "metadata": {
    "papermill": {
     "duration": 0.034065,
     "end_time": "2020-12-06T06:55:04.603611",
     "exception": false,
     "start_time": "2020-12-06T06:55:04.569546",
     "status": "completed"
    },
    "tags": []
   },
   "source": [
    "### Random Forest Classifier Tuning <a id =\"29\"></a>\n",
    "\n",
    "Here we are going to do tuning based on 'n_estimators'. We will try with estimators starting from 50 to 350 and depending on the final 'rmse' score, choose the value of estimator."
   ]
  },
  {
   "cell_type": "code",
   "execution_count": 17,
   "metadata": {
    "execution": {
     "iopub.execute_input": "2020-12-06T06:55:04.677966Z",
     "iopub.status.busy": "2020-12-06T06:55:04.677267Z",
     "iopub.status.idle": "2020-12-06T06:55:21.437860Z",
     "shell.execute_reply": "2020-12-06T06:55:21.437234Z"
    },
    "papermill": {
     "duration": 16.801287,
     "end_time": "2020-12-06T06:55:21.437962",
     "exception": false,
     "start_time": "2020-12-06T06:55:04.636675",
     "status": "completed"
    },
    "tags": []
   },
   "outputs": [
    {
     "name": "stdout",
     "output_type": "stream",
     "text": [
      "Average score(50): 0.703\n",
      "Average score(100): 0.700\n",
      "Average score(150): 0.691\n",
      "Average score(200): 0.697\n",
      "Average score(250): 0.692\n",
      "Average score(300): 0.695\n",
      "Average score(350): 0.700\n"
     ]
    }
   ],
   "source": [
    "n_estimators = [50, 100, 150, 200, 250, 300, 350]\n",
    "\n",
    "for val in n_estimators:\n",
    "    score = cross_val_score(ensemble.RandomForestClassifier(n_estimators= val, random_state= 42), X, y, cv= kf, scoring=\"accuracy\")\n",
    "    print(f'Average score({val}): {\"{:.3f}\".format(score.mean())}')"
   ]
  },
  {
   "cell_type": "markdown",
   "metadata": {
    "papermill": {
     "duration": 0.036353,
     "end_time": "2020-12-06T06:55:21.510900",
     "exception": false,
     "start_time": "2020-12-06T06:55:21.474547",
     "status": "completed"
    },
    "tags": []
   },
   "source": [
    "# Reference <a id =\"30\"></a>\n",
    "* [5 Reasons why you should use Cross-Validation in your Data Science Projects](https://towardsdatascience.com/5-reasons-why-you-should-use-cross-validation-in-your-data-science-project-8163311a1e79)\n",
    "* [Selecting the best model in scikit-learn using cross-validation](https://youtu.be/6dbrR-WymjI)"
   ]
  }
 ],
 "metadata": {
  "kernelspec": {
   "display_name": "Python 3",
   "language": "python",
   "name": "python3"
  },
  "language_info": {
   "codemirror_mode": {
    "name": "ipython",
    "version": 3
   },
   "file_extension": ".py",
   "mimetype": "text/x-python",
   "name": "python",
   "nbconvert_exporter": "python",
   "pygments_lexer": "ipython3",
   "version": "3.7.6"
  },
  "papermill": {
   "duration": 148.040844,
   "end_time": "2020-12-06T06:55:21.653875",
   "environment_variables": {},
   "exception": null,
   "input_path": "__notebook__.ipynb",
   "output_path": "__notebook__.ipynb",
   "parameters": {},
   "start_time": "2020-12-06T06:52:53.613031",
   "version": "2.1.0"
  }
 },
 "nbformat": 4,
 "nbformat_minor": 4
}
